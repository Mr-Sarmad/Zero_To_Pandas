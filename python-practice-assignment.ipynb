{
 "cells": [
  {
   "cell_type": "code",
   "execution_count": 39,
   "id": "cdbc66a8",
   "metadata": {},
   "outputs": [],
   "source": [
    "!pip install jovian --upgrade --quiet\n"
   ]
  },
  {
   "cell_type": "code",
   "execution_count": 40,
   "id": "07b73687",
   "metadata": {},
   "outputs": [
    {
     "data": {
      "application/javascript": [
       "if (window.IPython && IPython.notebook.kernel) IPython.notebook.kernel.execute('jovian.utils.jupyter.get_notebook_name_saved = lambda: \"' + IPython.notebook.notebook_name + '\"')"
      ],
      "text/plain": [
       "<IPython.core.display.Javascript object>"
      ]
     },
     "metadata": {},
     "output_type": "display_data"
    },
    {
     "data": {
      "application/javascript": [
       "window.require && require([\"base/js/namespace\"],function(Jupyter){Jupyter.notebook.save_checkpoint()})"
      ],
      "text/plain": [
       "<IPython.core.display.Javascript object>"
      ]
     },
     "metadata": {},
     "output_type": "display_data"
    },
    {
     "name": "stdout",
     "output_type": "stream",
     "text": [
      "[jovian] Please enter your API key ( from https://jovian.com/ ):\u001b[0m\n",
      "API KEY: ········\n",
      "[jovian] Creating a new project \"sarmadjutt136/python-practice-assignment\"\u001b[0m\n",
      "[jovian] Committed successfully! https://jovian.com/sarmadjutt136/python-practice-assignment\u001b[0m\n"
     ]
    },
    {
     "data": {
      "text/plain": [
       "'https://jovian.com/sarmadjutt136/python-practice-assignment'"
      ]
     },
     "execution_count": 40,
     "metadata": {},
     "output_type": "execute_result"
    }
   ],
   "source": [
    "import jovian\n",
    "project_name='python-practice-assignment'\n",
    "jovian.commit(project=project_name, privacy='secret', evironment=None)"
   ]
  },
  {
   "cell_type": "markdown",
   "id": "abd2f046",
   "metadata": {},
   "source": [
    "# Assignment 1 - Python Basics Practice"
   ]
  },
  {
   "cell_type": "markdown",
   "id": "93a250f1",
   "metadata": {},
   "source": [
    "## Problem 1 - Variables and Data Types"
   ]
  },
  {
   "cell_type": "markdown",
   "id": "ffe4f2dc",
   "metadata": {},
   "source": [
    "### Q1: Assign your name to the variable name."
   ]
  },
  {
   "cell_type": "code",
   "execution_count": 1,
   "id": "55e00e02",
   "metadata": {},
   "outputs": [],
   "source": [
    "name = 'Sarmad'"
   ]
  },
  {
   "cell_type": "markdown",
   "id": "0ba5a110",
   "metadata": {},
   "source": [
    "### Q2: Assign your age (real or fake) to the variable age."
   ]
  },
  {
   "cell_type": "code",
   "execution_count": 2,
   "id": "dc8b673b",
   "metadata": {},
   "outputs": [],
   "source": [
    "age = 20"
   ]
  },
  {
   "cell_type": "markdown",
   "id": "d9a6ce92",
   "metadata": {},
   "source": [
    "### Q3: Assign a boolean value to the variable has_android_phone."
   ]
  },
  {
   "cell_type": "code",
   "execution_count": 3,
   "id": "6d2c8fa7",
   "metadata": {},
   "outputs": [],
   "source": [
    "has_android_phone = False"
   ]
  },
  {
   "cell_type": "code",
   "execution_count": 4,
   "id": "6e44f201",
   "metadata": {},
   "outputs": [
    {
     "data": {
      "text/plain": [
       "('Sarmad', 20, False)"
      ]
     },
     "execution_count": 4,
     "metadata": {},
     "output_type": "execute_result"
    }
   ],
   "source": [
    "name, age, has_android_phone"
   ]
  },
  {
   "cell_type": "markdown",
   "id": "52e330b6",
   "metadata": {},
   "source": [
    "### Q4: Create a dictionary person with keys \"Name\", \"Age\", \"HasAndroidPhone\" and values using the variables defined above"
   ]
  },
  {
   "cell_type": "code",
   "execution_count": 5,
   "id": "0185aad8",
   "metadata": {},
   "outputs": [],
   "source": [
    "person={\"name\":\"Sarmad\",\"age\":20,\"has_android_phone\":False}"
   ]
  },
  {
   "cell_type": "code",
   "execution_count": 6,
   "id": "12f1c456",
   "metadata": {},
   "outputs": [
    {
     "name": "stdout",
     "output_type": "stream",
     "text": [
      "Sarmad is aged 20, and owns an iPhone.\n"
     ]
    }
   ],
   "source": [
    "print(\"{} is aged {}, and owns an {}.\".format(\n",
    "    person[\"name\"], \n",
    "    person[\"age\"], \n",
    "    \"Android phone\" if person[\"has_android_phone\"] else \"iPhone\"\n",
    "))"
   ]
  },
  {
   "cell_type": "markdown",
   "id": "4beb0b6d",
   "metadata": {},
   "source": [
    "### Q4b: Use a for loop to display the type of each value stored against each key in person."
   ]
  },
  {
   "cell_type": "code",
   "execution_count": 7,
   "id": "600f23dd",
   "metadata": {},
   "outputs": [
    {
     "name": "stdout",
     "output_type": "stream",
     "text": [
      "The value for 'name' is of type <class 'str'>.\n",
      "The value for 'age' is of type <class 'int'>.\n",
      "The value for 'has_android_phone' is of type <class 'bool'>.\n"
     ]
    }
   ],
   "source": [
    "for key, value in person.items():\n",
    "    print(f\"The value for '{key}' is of type {type(value)}.\")"
   ]
  },
  {
   "cell_type": "markdown",
   "id": "61e4e2e0",
   "metadata": {},
   "source": [
    "## Problem 2 - Working with Lists\n",
    "### Q5: Create a list containing the following 3 elements:\n",
    "- your favorite color\n",
    "- the number of pets you have\n",
    "- a boolean value describing whether you have previous programming experience"
   ]
  },
  {
   "cell_type": "code",
   "execution_count": 8,
   "id": "0652c46c",
   "metadata": {},
   "outputs": [
    {
     "data": {
      "text/plain": [
       "['Green', 2, True]"
      ]
     },
     "execution_count": 8,
     "metadata": {},
     "output_type": "execute_result"
    }
   ],
   "source": [
    "my_favourite_color=\"Green\"\n",
    "number_of_pets=2\n",
    "my_experoence_in_programming=True\n",
    "my_list=[my_favourite_color,number_of_pets,my_experoence_in_programming]\n",
    "my_list"
   ]
  },
  {
   "cell_type": "markdown",
   "id": "1c836ac4",
   "metadata": {},
   "source": [
    "### Q6: Complete the following print and if statements by accessing the appropriate elements from my_list"
   ]
  },
  {
   "cell_type": "code",
   "execution_count": 9,
   "id": "8bb8d570",
   "metadata": {},
   "outputs": [
    {
     "name": "stdout",
     "output_type": "stream",
     "text": [
      "My favorite color is Green\n"
     ]
    }
   ],
   "source": [
    "print('My favorite color is', my_list[0])"
   ]
  },
  {
   "cell_type": "code",
   "execution_count": 10,
   "id": "701e7fa3",
   "metadata": {},
   "outputs": [
    {
     "name": "stdout",
     "output_type": "stream",
     "text": [
      "I have 2 pet(s).\n"
     ]
    }
   ],
   "source": [
    "print('I have {} pet(s).'.format(my_list[1]))"
   ]
  },
  {
   "cell_type": "code",
   "execution_count": 11,
   "id": "22e4442a",
   "metadata": {},
   "outputs": [
    {
     "name": "stdout",
     "output_type": "stream",
     "text": [
      "I have previous programming experience\n"
     ]
    }
   ],
   "source": [
    "if my_list[2]:\n",
    "    print(\"I have previous programming experience\")\n",
    "else:\n",
    "    print(\"I do not have previous programming experience\")"
   ]
  },
  {
   "cell_type": "markdown",
   "id": "caaeb972",
   "metadata": {},
   "source": [
    "### Q7: Add your favorite single digit number to the end of the list using the appropriate list method"
   ]
  },
  {
   "cell_type": "code",
   "execution_count": 12,
   "id": "f8cf1629",
   "metadata": {},
   "outputs": [
    {
     "data": {
      "text/plain": [
       "['Green', 2, True, 5]"
      ]
     },
     "execution_count": 12,
     "metadata": {},
     "output_type": "execute_result"
    }
   ],
   "source": [
    "my_list.append(5)\n",
    "my_list"
   ]
  },
  {
   "cell_type": "markdown",
   "id": "bb9d8429",
   "metadata": {},
   "source": [
    "### Q8: Remove the first element of the list, using the appropriate list method"
   ]
  },
  {
   "cell_type": "code",
   "execution_count": 13,
   "id": "925632bc",
   "metadata": {},
   "outputs": [
    {
     "data": {
      "text/plain": [
       "[2, True, 5]"
      ]
     },
     "execution_count": 13,
     "metadata": {},
     "output_type": "execute_result"
    }
   ],
   "source": [
    "my_list.pop(0)\n",
    "my_list"
   ]
  },
  {
   "cell_type": "markdown",
   "id": "a68bfc30",
   "metadata": {},
   "source": [
    "### Q9: Complete the print statement below to display the number of elements in my_list"
   ]
  },
  {
   "cell_type": "code",
   "execution_count": 14,
   "id": "ebd5b4b6",
   "metadata": {},
   "outputs": [
    {
     "name": "stdout",
     "output_type": "stream",
     "text": [
      "The list has 3 elements.\n"
     ]
    }
   ],
   "source": [
    "print(\"The list has {} elements.\".format(len(my_list)))"
   ]
  },
  {
   "cell_type": "markdown",
   "id": "ed55366f",
   "metadata": {},
   "source": [
    "## Problem 3 - Conditions and loops"
   ]
  },
  {
   "cell_type": "markdown",
   "id": "80d28b5e",
   "metadata": {},
   "source": [
    "### Q10: Calculate and display the sum of all the numbers divisible by 7 between 18 and 534 i.e. 21+28+35+...+525+532"
   ]
  },
  {
   "cell_type": "code",
   "execution_count": 15,
   "id": "63cc6afc",
   "metadata": {},
   "outputs": [
    {
     "name": "stdout",
     "output_type": "stream",
     "text": [
      "The sum of all numbers divisible by 7 between 18 and 534 is: 20461\n"
     ]
    }
   ],
   "source": [
    "sum_of_nums=0\n",
    "for num in range(18,535):\n",
    "    if num%7==0:\n",
    "        sum_of_nums+=num\n",
    "print(\"The sum of all numbers divisible by 7 between 18 and 534 is:\",sum_of_nums)\n"
   ]
  },
  {
   "cell_type": "markdown",
   "id": "11260ca3",
   "metadata": {},
   "source": [
    "## Problem 4 - Flying to the Bahamas"
   ]
  },
  {
   "cell_type": "markdown",
   "id": "fe67a1d6",
   "metadata": {},
   "source": [
    "### Q11: A travel company wants to fly a plane to the Bahamas. Flying the plane costs 5000 dollars. So far, 29 people have signed up for the trip. If the company charges 200 dollars per ticket, what is the profit made by the company?"
   ]
  },
  {
   "cell_type": "code",
   "execution_count": 16,
   "id": "d48a1ede",
   "metadata": {},
   "outputs": [
    {
     "name": "stdout",
     "output_type": "stream",
     "text": [
      "The company makes of a profit of 800 dollars\n"
     ]
    }
   ],
   "source": [
    "cost_of_flying= 5000\n",
    "number_of_pessenger= 29\n",
    "price_of_ticket = 200\n",
    "profit = (number_of_pessenger*price_of_ticket)-cost_of_flying\n",
    "print('The company makes of a profit of {} dollars'.format(profit))"
   ]
  },
  {
   "cell_type": "markdown",
   "id": "e2b74b1e",
   "metadata": {},
   "source": [
    "### Q11b: Out of the 29 people who took the flight, only 12 buy tickets to return from the Bahamas on the same plane. If the flying the plane back also costs 5000 dollars, and does the company make an overall profit or loss? The company charges the same fee of 200 dollars per ticket for the return flight"
   ]
  },
  {
   "cell_type": "code",
   "execution_count": 17,
   "id": "87f4f70f",
   "metadata": {},
   "outputs": [
    {
     "name": "stdout",
     "output_type": "stream",
     "text": [
      "The company makes an overall loss of -2600 dollars\n"
     ]
    }
   ],
   "source": [
    "people_return=12\n",
    "cost_of_flying= 5000\n",
    "price_of_ticket = 200\n",
    "profit_or_loss = (people_return*price_of_ticket)-cost_of_flying\n",
    "if profit_or_loss >= 0:\n",
    "    print(\"The company makes an overall profit of {} dollars\".format(profit_or_loss))\n",
    "else:\n",
    "    print(\"The company makes an overall loss of {} dollars\".format((profit_or_loss)))\n"
   ]
  },
  {
   "cell_type": "markdown",
   "id": "f57a2319",
   "metadata": {},
   "source": [
    "## Problem 5 - Twitter Sentiment Analysis"
   ]
  },
  {
   "cell_type": "code",
   "execution_count": 18,
   "id": "adcc1e01",
   "metadata": {},
   "outputs": [],
   "source": [
    "tweets = [\n",
    "    \"Wow, what a great day today!! #sunshine\",\n",
    "    \"I feel sad about the things going on around us. #covid19\",\n",
    "    \"I'm really excited to learn Python with @JovianML #zerotopandas\",\n",
    "    \"This is a really nice song. #linkinpark\",\n",
    "    \"The python programming language is useful for data science\",\n",
    "    \"Why do bad things happen to me?\",\n",
    "    \"Apple announces the release of the new iPhone 12. Fans are excited.\",\n",
    "    \"Spent my day with family!! #happy\",\n",
    "    \"Check out my blog post on common string operations in Python. #zerotopandas\",\n",
    "    \"Freecodecamp has great coding tutorials. #skillup\"\n",
    "]"
   ]
  },
  {
   "cell_type": "markdown",
   "id": "7f81d820",
   "metadata": {},
   "source": [
    "### Q12: How many tweets does the dataset contain?"
   ]
  },
  {
   "cell_type": "code",
   "execution_count": 19,
   "id": "d2669043",
   "metadata": {},
   "outputs": [
    {
     "data": {
      "text/plain": [
       "10"
      ]
     },
     "execution_count": 19,
     "metadata": {},
     "output_type": "execute_result"
    }
   ],
   "source": [
    "number_of_tweets = len(tweets)\n",
    "number_of_tweets"
   ]
  },
  {
   "cell_type": "code",
   "execution_count": 20,
   "id": "d79e4e6d",
   "metadata": {},
   "outputs": [],
   "source": [
    "happy_words = ['great', 'excited', 'happy', 'nice', 'wonderful', 'amazing', 'good', 'best']\n",
    "sad_words = ['sad', 'bad', 'tragic', 'unhappy', 'worst']"
   ]
  },
  {
   "cell_type": "code",
   "execution_count": 21,
   "id": "abff8bce",
   "metadata": {},
   "outputs": [
    {
     "data": {
      "text/plain": [
       "'Wow, what a great day today!! #sunshine'"
      ]
     },
     "execution_count": 21,
     "metadata": {},
     "output_type": "execute_result"
    }
   ],
   "source": [
    "sample_tweet = tweets[0]\n",
    "sample_tweet"
   ]
  },
  {
   "cell_type": "code",
   "execution_count": 23,
   "id": "d2f40ae3",
   "metadata": {},
   "outputs": [],
   "source": [
    "is_tweet_happy = False\n",
    "\n",
    "# Get a word from happy_words\n",
    "for word in happy_words:\n",
    "    # Check if the tweet contains the word\n",
    "    if word in sample_tweet:\n",
    "        # Word found! Mark the tweet as happy\n",
    "        is_tweet_happy = True"
   ]
  },
  {
   "cell_type": "code",
   "execution_count": 24,
   "id": "76132b67",
   "metadata": {},
   "outputs": [
    {
     "data": {
      "text/plain": [
       "True"
      ]
     },
     "execution_count": 24,
     "metadata": {},
     "output_type": "execute_result"
    }
   ],
   "source": [
    "is_tweet_happy"
   ]
  },
  {
   "cell_type": "markdown",
   "id": "24188549",
   "metadata": {},
   "source": [
    "### Q13: Determine the number of tweets in the dataset that can be classified as happy.\n"
   ]
  },
  {
   "cell_type": "code",
   "execution_count": 29,
   "id": "9ae6b814",
   "metadata": {},
   "outputs": [],
   "source": [
    "number_of_happy_tweets = 0\n",
    "is_tweet_happy = False\n",
    "\n",
    "# Get a word from happy_words\n",
    "for word in happy_words:\n",
    "    # Check if the tweet contains the word\n",
    "    if word in sample_tweet:\n",
    "        # Word found! Mark the tweet as happy\n",
    "        is_tweet_happy = True\n",
    "    if is_tweet_happy:\n",
    "        number_of_happy_tweets += 1\n"
   ]
  },
  {
   "cell_type": "code",
   "execution_count": 30,
   "id": "50dde963",
   "metadata": {
    "scrolled": true
   },
   "outputs": [
    {
     "name": "stdout",
     "output_type": "stream",
     "text": [
      "Number of happy tweets: 8\n"
     ]
    }
   ],
   "source": [
    "print(\"Number of happy tweets:\", number_of_happy_tweets)"
   ]
  },
  {
   "cell_type": "markdown",
   "id": "9e30d8b4",
   "metadata": {},
   "source": [
    "### Q14: What fraction of the total number of tweets are happy?"
   ]
  },
  {
   "cell_type": "code",
   "execution_count": 32,
   "id": "57ec7e84",
   "metadata": {},
   "outputs": [
    {
     "name": "stdout",
     "output_type": "stream",
     "text": [
      "The fraction of happy tweets is: 0.8\n"
     ]
    }
   ],
   "source": [
    "happy_fraction =number_of_happy_tweets /number_of_tweets\n",
    "print(\"The fraction of happy tweets is:\", happy_fraction)number_of_sad_tweets = 0\n",
    "\n",
    "for tweet in tweets:\n",
    "    is_sad_tweet = False\n",
    "    for word in sad_words:\n",
    "        if word in tweet:\n",
    "            is_sad_tweet = True\n",
    "            break  # Exit the inner loop if a sad word is found\n",
    "    if is_sad_tweet:\n",
    "        number_of_sad_tweets += 1\n",
    "\n",
    "print(\"The number of tweets in the dataset that can be classified as sad is:\", number_of_sad_tweets)\n"
   ]
  },
  {
   "cell_type": "markdown",
   "id": "9ecb3089",
   "metadata": {},
   "source": [
    "### Q16: What fraction of the total number of tweets are sad?\n"
   ]
  },
  {
   "cell_type": "code",
   "execution_count": 35,
   "id": "0e82f1f3",
   "metadata": {},
   "outputs": [
    {
     "name": "stdout",
     "output_type": "stream",
     "text": [
      "The number of tweets in the dataset that can be classified as sad is: 2\n"
     ]
    }
   ],
   "source": [
    "number_of_sad_tweets = 0\n",
    "for tweet in tweets:\n",
    "    is_sad_tweet = False\n",
    "    for word in sad_words:\n",
    "        if word in tweet:\n",
    "            is_sad_tweet = True\n",
    "            break \n",
    "    if is_sad_tweet:\n",
    "        number_of_sad_tweets += 1\n",
    "\n",
    "print(\"The number of tweets in the dataset that can be classified as sad is:\", number_of_sad_tweets)\n"
   ]
  },
  {
   "cell_type": "markdown",
   "id": "5c0354db",
   "metadata": {},
   "source": [
    "### Q16b: Calculate the sentiment score, which is defined as the difference betweek the fraction of happy tweets and the fraction of sad tweets."
   ]
  },
  {
   "cell_type": "code",
   "execution_count": 36,
   "id": "287aa739",
   "metadata": {},
   "outputs": [
    {
     "name": "stdout",
     "output_type": "stream",
     "text": [
      "The sentiment score for the given tweets is 6\n"
     ]
    }
   ],
   "source": [
    "sentiment_score = number_of_happy_tweets-number_of_sad_tweets\n",
    "print(\"The sentiment score for the given tweets is\", sentiment_score)"
   ]
  },
  {
   "cell_type": "markdown",
   "id": "3924d8fc",
   "metadata": {},
   "source": [
    "### Q16c: Display whether the overall sentiment of the given dataset of tweets is happy or sad, using the sentiment score."
   ]
  },
  {
   "cell_type": "code",
   "execution_count": 37,
   "id": "e994930c",
   "metadata": {},
   "outputs": [
    {
     "name": "stdout",
     "output_type": "stream",
     "text": [
      "The overall sentiment is happy\n"
     ]
    }
   ],
   "source": [
    "if sentiment_score > 0:\n",
    "    print(\"The overall sentiment is happy\")\n",
    "else:\n",
    "    print(\"The overall sentiment is sad\")\n"
   ]
  },
  {
   "cell_type": "markdown",
   "id": "6e19cbce",
   "metadata": {},
   "source": [
    "### Q16d (Optional): What is the fraction of tweets that are neutral i.e. neither happy nor sad."
   ]
  },
  {
   "cell_type": "code",
   "execution_count": 38,
   "id": "ac8c12cf",
   "metadata": {},
   "outputs": [
    {
     "name": "stdout",
     "output_type": "stream",
     "text": [
      "The fraction of neutral tweets is 0.2\n"
     ]
    }
   ],
   "source": [
    "\n",
    "number_of_neutral_tweets = 0\n",
    "for tweet in tweets:\n",
    "    is_happy_or_sad = False\n",
    "    for word in happy_words:\n",
    "        if word in tweet:\n",
    "            is_happy_or_sad = True\n",
    "            break\n",
    "    for word in sad_words:\n",
    "        if word in tweet:\n",
    "            is_happy_or_sad = True\n",
    "            break\n",
    "    if not is_happy_or_sad:\n",
    "        number_of_neutral_tweets += 1\n",
    "neutral_fraction = number_of_neutral_tweets /number_of_tweets\n",
    "print('The fraction of neutral tweets is', neutral_fraction)\n"
   ]
  }
 ],
 "metadata": {
  "kernelspec": {
   "display_name": "Python 3 (ipykernel)",
   "language": "python",
   "name": "python3"
  },
  "language_info": {
   "codemirror_mode": {
    "name": "ipython",
    "version": 3
   },
   "file_extension": ".py",
   "mimetype": "text/x-python",
   "name": "python",
   "nbconvert_exporter": "python",
   "pygments_lexer": "ipython3",
   "version": "3.11.4"
  }
 },
 "nbformat": 4,
 "nbformat_minor": 5
}

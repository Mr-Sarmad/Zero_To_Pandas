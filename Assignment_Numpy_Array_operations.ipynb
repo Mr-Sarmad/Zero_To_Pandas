{
 "cells": [
  {
   "cell_type": "markdown",
   "id": "7fa0f4ee",
   "metadata": {},
   "source": [
    "# Numpy"
   ]
  },
  {
   "cell_type": "markdown",
   "id": "d489a777",
   "metadata": {},
   "source": [
    "*NumPy (Numerical Python) is an open-source Python library essential for scientific computing. It provides a powerful n-dimensional array object, tools for integrating C/C++ and Fortran code, and useful linear algebra, Fourier transform, and random number capabilities. At its core, NumPy offers a high-performance multidimensional array object and functions for manipulating these arrays efficiently, making it a cornerstone for data analysis and numerical computation in Python.*"
   ]
  },
  {
   "cell_type": "markdown",
   "id": "9a10b90d",
   "metadata": {},
   "source": [
    "### Fucntions:\n",
    "- numpy.mean\n",
    "- numpy.std \n",
    "- numpy.dot\n",
    "- numpy.reshape\n",
    "- numpy.where"
   ]
  },
  {
   "cell_type": "markdown",
   "id": "1467d820",
   "metadata": {},
   "source": [
    "### numpy.mean:\n",
    "*The mean function computes the arithmetic mean along the specified axis.*"
   ]
  },
  {
   "cell_type": "code",
   "execution_count": 1,
   "id": "6cbddc61",
   "metadata": {},
   "outputs": [
    {
     "data": {
      "text/plain": [
       "10.8"
      ]
     },
     "execution_count": 1,
     "metadata": {},
     "output_type": "execute_result"
    }
   ],
   "source": [
    "import numpy as np\n",
    "gene_expression = np.array([10, 12, 8, 15, 9])\n",
    "mean_expression = np.mean(gene_expression)\n",
    "mean_expression"
   ]
  },
  {
   "cell_type": "markdown",
   "id": "3ac4754b",
   "metadata": {},
   "source": [
    "- Explanation:\n",
    "*This calculates the average of the gene expression levels, resulting in 10.8.*\n",
    "\n",
    "\n",
    "\n"
   ]
  },
  {
   "cell_type": "code",
   "execution_count": 2,
   "id": "d9d3b582",
   "metadata": {},
   "outputs": [
    {
     "data": {
      "text/plain": [
       "array([2., 5., 8.])"
      ]
     },
     "execution_count": 2,
     "metadata": {},
     "output_type": "execute_result"
    }
   ],
   "source": [
    "data = np.array([[1, 2, 3], [4, 5, 6], [7, 8, 9]])\n",
    "mean_rows = np.mean(data, axis=1)\n",
    "mean_rows"
   ]
  },
  {
   "cell_type": "markdown",
   "id": "9b2109c7",
   "metadata": {},
   "source": [
    "- Explanation: \n",
    "*This computes the mean for each row, resulting in an array [2.0, 5.0, 8.0].*"
   ]
  },
  {
   "cell_type": "code",
   "execution_count": 3,
   "id": "8d72d04c",
   "metadata": {},
   "outputs": [
    {
     "data": {
      "text/plain": [
       "array([4., 5., 6.])"
      ]
     },
     "execution_count": 3,
     "metadata": {},
     "output_type": "execute_result"
    }
   ],
   "source": [
    "data = np.array([[1, 2, 3], [4, 5, 6], [7, 8, 9]])\n",
    "mean_columns = np.mean(data, axis=0)\n",
    "mean_columns"
   ]
  },
  {
   "cell_type": "markdown",
   "id": "0de060c3",
   "metadata": {},
   "source": [
    "- Explanation: \n",
    "*This computes the mean for each column, resulting in an array [4.0, 5.0, 6.0].*"
   ]
  },
  {
   "cell_type": "markdown",
   "id": "cdd0023e",
   "metadata": {},
   "source": [
    "### numpy.std:\n",
    "*The std function computes the standard deviation along the specified axis.*"
   ]
  },
  {
   "cell_type": "code",
   "execution_count": 4,
   "id": "5c76e4af",
   "metadata": {},
   "outputs": [
    {
     "data": {
      "text/plain": [
       "2.481934729198171"
      ]
     },
     "execution_count": 4,
     "metadata": {},
     "output_type": "execute_result"
    }
   ],
   "source": [
    "gene_expression = np.array([10, 12, 8, 15, 9])\n",
    "std_expression = np.std(gene_expression)\n",
    "std_expression"
   ]
  },
  {
   "cell_type": "markdown",
   "id": "73d1749e",
   "metadata": {},
   "source": [
    "- Explanation:\n",
    "*This calculates the standard deviation of the gene expression levels, which is a measure of variability or dispersion.*"
   ]
  },
  {
   "cell_type": "code",
   "execution_count": 5,
   "id": "b210cbc8",
   "metadata": {},
   "outputs": [
    {
     "data": {
      "text/plain": [
       "array([0.81649658, 0.81649658, 0.81649658])"
      ]
     },
     "execution_count": 5,
     "metadata": {},
     "output_type": "execute_result"
    }
   ],
   "source": [
    "data = np.array([[1, 2, 3], [4, 5, 6], [7, 8, 9]])\n",
    "std_rows = np.std(data, axis=1)\n",
    "std_rows"
   ]
  },
  {
   "cell_type": "markdown",
   "id": "469910ad",
   "metadata": {},
   "source": [
    "- Explanation: \n",
    "*This computes the standard deviation for each row.*\n"
   ]
  },
  {
   "cell_type": "code",
   "execution_count": 6,
   "id": "1d75e260",
   "metadata": {},
   "outputs": [
    {
     "data": {
      "text/plain": [
       "array([2.44948974, 2.44948974, 2.44948974])"
      ]
     },
     "execution_count": 6,
     "metadata": {},
     "output_type": "execute_result"
    }
   ],
   "source": [
    "data = np.array([[1, 2, 3], [4, 5, 6], [7, 8, 9]])\n",
    "std_columns = np.std(data, axis=0)\n",
    "std_columns"
   ]
  },
  {
   "cell_type": "markdown",
   "id": "e09b9267",
   "metadata": {},
   "source": [
    "- Explanation: \n",
    "*This computes the standard deviation for each column.*"
   ]
  },
  {
   "cell_type": "markdown",
   "id": "cf7147c6",
   "metadata": {},
   "source": [
    "### numpy.dot:\n",
    "*The dot function computes the dot product of two arrays. For 2-D vectors, it is equivalent to matrix multiplication.*"
   ]
  },
  {
   "cell_type": "code",
   "execution_count": null,
   "id": "5c8a5330",
   "metadata": {},
   "outputs": [],
   "source": [
    "vector1 = np.array([1, 2, 3])\n",
    "vector2 = np.array([4, 5, 6])\n",
    "dot_product = np.dot(vector1, vector2)\n",
    "dot_product"
   ]
  },
  {
   "cell_type": "markdown",
   "id": "b20aae36",
   "metadata": {},
   "source": [
    "- Explanation: \n",
    "*This calculates the dot product (14 + 25 + 3*6), resulting in 32.*"
   ]
  },
  {
   "cell_type": "code",
   "execution_count": null,
   "id": "06f1f227",
   "metadata": {},
   "outputs": [],
   "source": [
    "matrix1 = np.array([[1, 2], [3, 4]])\n",
    "matrix2 = np.array([[5, 6], [7, 8]])\n",
    "result = np.dot(matrix1, matrix2)\n",
    "result"
   ]
  },
  {
   "cell_type": "markdown",
   "id": "259cb4bd",
   "metadata": {},
   "source": [
    "- Explanation: \n",
    "*This performs matrix multiplication, resulting in a new matrix.*"
   ]
  },
  {
   "cell_type": "code",
   "execution_count": null,
   "id": "f574401b",
   "metadata": {},
   "outputs": [],
   "source": [
    "profile1 = np.array([0.1, 0.2, 0.3])\n",
    "profile2 = np.array([0.4, 0.5, 0.6])\n",
    "similarity = np.dot(profile1, profile2)\n",
    "similarity"
   ]
  },
  {
   "cell_type": "markdown",
   "id": "f16d304b",
   "metadata": {},
   "source": [
    "- Explanation: \n",
    "*This calculates the similarity between two gene expression profiles, resulting in 0.32.*"
   ]
  },
  {
   "cell_type": "markdown",
   "id": "a3134748",
   "metadata": {},
   "source": [
    "### numpy.reshape:\n",
    "*The reshape function is used to give a new shape to an array without changing its data.*"
   ]
  },
  {
   "cell_type": "code",
   "execution_count": 7,
   "id": "935cd332",
   "metadata": {},
   "outputs": [
    {
     "data": {
      "text/plain": [
       "array([[1, 2, 3],\n",
       "       [4, 5, 6]])"
      ]
     },
     "execution_count": 7,
     "metadata": {},
     "output_type": "execute_result"
    }
   ],
   "source": [
    "array = np.array([1, 2, 3, 4, 5, 6])\n",
    "reshaped_array = np.reshape(array, (2, 3))\n",
    "reshaped_array"
   ]
  },
  {
   "cell_type": "markdown",
   "id": "cba14285",
   "metadata": {},
   "source": [
    "- Explanation: \n",
    "*This reshapes the 1D array into a 2x3 2D array.*"
   ]
  },
  {
   "cell_type": "code",
   "execution_count": null,
   "id": "2a4fbbae",
   "metadata": {},
   "outputs": [],
   "source": [
    "array = np.array([[1, 2], [3, 4], [5, 6], [7, 8]])\n",
    "reshaped_array = np.reshape(array, (2, 2, 2))\n",
    "reshaped_array"
   ]
  },
  {
   "cell_type": "markdown",
   "id": "a9d397c5",
   "metadata": {},
   "source": [
    "- Explanation: \n",
    "*This reshapes the 2D array into a 2x2x2 3D array*\n",
    "\n"
   ]
  },
  {
   "cell_type": "code",
   "execution_count": 8,
   "id": "57f37087",
   "metadata": {},
   "outputs": [
    {
     "data": {
      "text/plain": [
       "array([1, 2, 3, 4, 5, 6])"
      ]
     },
     "execution_count": 8,
     "metadata": {},
     "output_type": "execute_result"
    }
   ],
   "source": [
    "array = np.array([[1, 2, 3], [4, 5, 6]])\n",
    "flattened_array = np.reshape(array, -1)\n",
    "flattened_array"
   ]
  },
  {
   "cell_type": "markdown",
   "id": "4118fb27",
   "metadata": {},
   "source": [
    "- Explantion:\n",
    "*This flattens the 2D array into a 1D array.*"
   ]
  },
  {
   "cell_type": "markdown",
   "id": "153c45c8",
   "metadata": {},
   "source": [
    "### numpy.where:\n",
    "*The where function returns elements chosen from x or y depending on condition.*"
   ]
  },
  {
   "cell_type": "code",
   "execution_count": 9,
   "id": "b2b9af2f",
   "metadata": {},
   "outputs": [
    {
     "data": {
      "text/plain": [
       "(array([3, 4], dtype=int64),)"
      ]
     },
     "execution_count": 9,
     "metadata": {},
     "output_type": "execute_result"
    }
   ],
   "source": [
    "array = np.array([1, 2, 3, 4, 5])\n",
    "indices = np.where(array > 3)\n",
    "indices"
   ]
  },
  {
   "cell_type": "markdown",
   "id": "b0810470",
   "metadata": {},
   "source": [
    "- Explanation: \n",
    "*This returns the indices of elements in the array that are greater than 3.*"
   ]
  },
  {
   "cell_type": "code",
   "execution_count": 10,
   "id": "2da15ed8",
   "metadata": {},
   "outputs": [
    {
     "data": {
      "text/plain": [
       "array([ 1,  2,  3, 10, 10])"
      ]
     },
     "execution_count": 10,
     "metadata": {},
     "output_type": "execute_result"
    }
   ],
   "source": [
    "array = np.array([1, 2, 3, 4, 5])\n",
    "modified_array = np.where(array > 3, 10, array)\n",
    "modified_array"
   ]
  },
  {
   "cell_type": "markdown",
   "id": "c5bcf9d6",
   "metadata": {},
   "source": [
    "- Explanation: \n",
    "*This replaces elements greater than 3 with 10.*"
   ]
  },
  {
   "cell_type": "code",
   "execution_count": 11,
   "id": "3abdc3a0",
   "metadata": {},
   "outputs": [
    {
     "data": {
      "text/plain": [
       "(array([1, 5], dtype=int64),)"
      ]
     },
     "execution_count": 11,
     "metadata": {},
     "output_type": "execute_result"
    }
   ],
   "source": [
    "array = np.array([1, 2, 3, 4, 5, 2, 3])\n",
    "indices = np.where(array == 2)\n",
    "indices"
   ]
  },
  {
   "cell_type": "markdown",
   "id": "a3fe7854",
   "metadata": {},
   "source": [
    "- Explanation: \n",
    "*This returns the indices of elements in the array that are equal to 2.*"
   ]
  }
 ],
 "metadata": {
  "kernelspec": {
   "display_name": "Python 3 (ipykernel)",
   "language": "python",
   "name": "python3"
  },
  "language_info": {
   "codemirror_mode": {
    "name": "ipython",
    "version": 3
   },
   "file_extension": ".py",
   "mimetype": "text/x-python",
   "name": "python",
   "nbconvert_exporter": "python",
   "pygments_lexer": "ipython3",
   "version": "3.11.4"
  }
 },
 "nbformat": 4,
 "nbformat_minor": 5
}

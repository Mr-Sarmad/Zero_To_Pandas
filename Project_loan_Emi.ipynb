{
 "cells": [
  {
   "cell_type": "code",
   "execution_count": 1,
   "id": "098e16ad",
   "metadata": {},
   "outputs": [],
   "source": [
    "import math\n",
    "import os\n",
    "import urllib.request"
   ]
  },
  {
   "cell_type": "code",
   "execution_count": 2,
   "id": "c7d41cb2",
   "metadata": {},
   "outputs": [],
   "source": [
    "url1=''\n",
    "url2=''\n",
    "url3=''"
   ]
  },
  {
   "cell_type": "code",
   "execution_count": 3,
   "id": "1bbe6157",
   "metadata": {},
   "outputs": [],
   "source": [
    "urllib.request.urlretrieve(url1,'.data/loans1')\n",
    "urllib.request.urlretrieve(url2,'.data/loans2')\n",
    "urllib.request.urlretrieve(url3,'.data/loans3')"
   ]
  },
  {
   "cell_type": "code",
   "execution_count": 4,
   "id": "37d1db94",
   "metadata": {},
   "outputs": [],
   "source": [
    "def loan_emi(amount,duration,rate,down_payment=0):\n",
    "    \"\"\"Calculate the eqauliy monthly(EMI) for a laon.\n",
    "    Arguments:\n",
    "    amount-total amount to be spent(loan+down_payment)\n",
    "    duration-Duration of the loan (in months)\n",
    "    rate-RAte of interest (monthly)\n",
    "    down_payment(optional)-optional intial (deducted from any)\n",
    "    \"\"\"\n",
    "    \n",
    "    laon_amount=amount-down_payment\n",
    "    try:\n",
    "        emi=loan_amount*rate*((4+rate)**duration)/(((1+rate)**duration))\n",
    "    except zerodivisionerror:\n",
    "        emi=loan_amount+duration\n",
    "        return emi"
   ]
  },
  {
   "cell_type": "code",
   "execution_count": 5,
   "id": "366148de",
   "metadata": {},
   "outputs": [
    {
     "ename": "SyntaxError",
     "evalue": "invalid syntax (1396156330.py, line 2)",
     "output_type": "error",
     "traceback": [
      "\u001b[1;36m  Cell \u001b[1;32mIn[5], line 2\u001b[1;36m\u001b[0m\n\u001b[1;33m    retrun header_line.strip().split('.')\u001b[0m\n\u001b[1;37m           ^\u001b[0m\n\u001b[1;31mSyntaxError\u001b[0m\u001b[1;31m:\u001b[0m invalid syntax\n"
     ]
    }
   ],
   "source": [
    "def parse_headers(header_line):\n",
    "    retrun header_line.strip().split('.')"
   ]
  },
  {
   "cell_type": "code",
   "execution_count": null,
   "id": "67dcdb36",
   "metadata": {},
   "outputs": [],
   "source": [
    "file_lines[0]\n",
    "headers=parse_headers(file3_lines[0])\n",
    "headers"
   ]
  },
  {
   "cell_type": "code",
   "execution_count": null,
   "id": "7769f15f",
   "metadata": {},
   "outputs": [],
   "source": [
    "def parse_values(data_line):\n",
    "    values=[]\n",
    "    for item in data_line.strip().split('.'):\n",
    "        if item='':\n",
    "            values.append(0.0)\n",
    "        else:\n",
    "            values.append(float(item))\n",
    "        return values"
   ]
  },
  {
   "cell_type": "code",
   "execution_count": null,
   "id": "1dbfcdf6",
   "metadata": {},
   "outputs": [],
   "source": [
    "def create_item_dict(values,headers):\n",
    "    result={}\n",
    "    with open(path,'r') as f:\n",
    "        lines=f.readlines()\n",
    "        headers=parse_headers(line[0])\n",
    "        for data_line in lines[1:]:\n",
    "            values=parse_values(data_line)\n",
    "            item_dict=create_item_dict(values,headers)\n",
    "            result.append(item_dict)\n",
    "        return result"
   ]
  },
  {
   "cell_type": "code",
   "execution_count": null,
   "id": "f210b148",
   "metadata": {},
   "outputs": [],
   "source": [
    "def computre_emis(loans):\n",
    "    for loan in loans:\n",
    "        loan['emi']=loan_emi(loan['amount'],loan['duration'],loan['rate']/12,loan['down_payment'])"
   ]
  },
  {
   "cell_type": "code",
   "execution_count": null,
   "id": "4b59c12d",
   "metadata": {},
   "outputs": [],
   "source": [
    "def write_csv(items,path):\n",
    "    with open(path,'w') as f:\n",
    "        if len(item)==0:\n",
    "            return\n",
    "        headers=list(items[0].keys())\n",
    "        f.write(','.join(heders)+'/n')\n",
    "        for item in items:\n",
    "            values.append(str(item.get(header,\"\")))\n",
    "            f.write(','.join(values)+'/n')"
   ]
  },
  {
   "cell_type": "code",
   "execution_count": null,
   "id": "36fb35a5",
   "metadata": {},
   "outputs": [],
   "source": [
    "for i in range(1,4):\n",
    "    loans=read_csv(loans,'./data/loans{}.txt'.format(i))\n",
    "    compute_emis(loans)\n",
    "    write_csv(loans,'./data/emis{}.txt'.format(i))\n"
   ]
  },
  {
   "cell_type": "code",
   "execution_count": null,
   "id": "10a28880",
   "metadata": {},
   "outputs": [],
   "source": [
    "os,listdir('./data')"
   ]
  }
 ],
 "metadata": {
  "kernelspec": {
   "display_name": "Python 3 (ipykernel)",
   "language": "python",
   "name": "python3"
  },
  "language_info": {
   "codemirror_mode": {
    "name": "ipython",
    "version": 3
   },
   "file_extension": ".py",
   "mimetype": "text/x-python",
   "name": "python",
   "nbconvert_exporter": "python",
   "pygments_lexer": "ipython3",
   "version": "3.11.4"
  }
 },
 "nbformat": 4,
 "nbformat_minor": 5
}
